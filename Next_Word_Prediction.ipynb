{
  "cells": [
    {
      "cell_type": "markdown",
      "id": "bfafa247",
      "metadata": {
        "id": "bfafa247"
      },
      "source": [
        "<center><h1>TASK 8</h1></center>\n",
        "<center><h1>Develop A Neural Network That Can Read Handwriting</h1></center>\n",
        "<center> </h2>\n",
        "    <h3> by -Jalaj Singh </h3></center>\n",
        "    <center><h1><b><font color=\"blue\"> Let's Grow More </b></h1>"
      ]
    },
    {
      "cell_type": "markdown",
      "id": "c3151c98",
      "metadata": {
        "id": "c3151c98"
      },
      "source": [
        "## TASK 8: Next Word Prediction\n",
        "Using Tensorflow and Keras library train a RNN, to predict the next word.\n",
        "\n",
        "### Dataset Link: https://drive.google.com/file/d/1GeUzNVqiixXHnTl8oNiQ2W3CynX_lsu2/view"
      ]
    },
    {
      "cell_type": "code",
      "execution_count": null,
      "id": "5e9c0bbd",
      "metadata": {
        "id": "5e9c0bbd"
      },
      "outputs": [],
      "source": [
        "#Importing packages\n",
        "import numpy as np\n",
        "np.random.seed(42)\n",
        "import tensorflow as tf\n",
        "tf.random.set_seed(42)\n",
        "\n",
        "from tensorflow.keras.models import Sequential, load_model\n",
        "from tensorflow.keras.layers import Dense, Activation\n",
        "from tensorflow.keras.layers import LSTM, Dropout\n",
        "from tensorflow.keras.layers import TimeDistributed\n",
        "from tensorflow.keras.layers import Dense, Activation, Dropout, RepeatVector\n",
        "from tensorflow.keras.optimizers import  RMSprop\n",
        "import matplotlib.pyplot as plt\n",
        "import pickle\n",
        "import heapq"
      ]
    },
    {
      "cell_type": "code",
      "execution_count": null,
      "id": "c65b4027",
      "metadata": {
        "id": "c65b4027",
        "outputId": "a2e4e6f5-9025-4e9e-93ab-a98719e5add2"
      },
      "outputs": [
        {
          "name": "stdout",
          "output_type": "stream",
          "text": [
            "corpus length: 581888\n"
          ]
        }
      ],
      "source": [
        "#Loading the data\n",
        "text = open('Training_Text.txt',encoding = \"utf8\").read().lower()\n",
        "print('corpus length:', len(text))"
      ]
    },
    {
      "cell_type": "code",
      "execution_count": null,
      "id": "c94d8f58",
      "metadata": {
        "id": "c94d8f58",
        "outputId": "8c38d3d4-77c0-4069-dd95-cdd1d70e50ea"
      },
      "outputs": [
        {
          "name": "stdout",
          "output_type": "stream",
          "text": [
            "unique chars: 73\n"
          ]
        }
      ],
      "source": [
        "#Data Preprocessing\n",
        "character = sorted(list(set(text)))\n",
        "char_indices = dict((c, i) for i, c in enumerate(character))\n",
        "indices_char = dict((i, c) for i, c in enumerate(character))\n",
        "\n",
        "print(f'unique chars: {len(character)}')"
      ]
    },
    {
      "cell_type": "code",
      "execution_count": null,
      "id": "344b84c0",
      "metadata": {
        "id": "344b84c0",
        "outputId": "bc13be08-379d-4033-8970-13271346c404"
      },
      "outputs": [
        {
          "name": "stdout",
          "output_type": "stream",
          "text": [
            "num training examples: 193950\n"
          ]
        }
      ],
      "source": [
        "#chunk 40 characters with 3 sequences\n",
        "seq_len = 40\n",
        "step = 3\n",
        "sentences = []\n",
        "next_chars = []\n",
        "for i in range(0, len(text) - seq_len, step):\n",
        "    sentences.append(text[i: i + seq_len ])\n",
        "    next_chars.append(text[i + seq_len])\n",
        "print(f'num training examples: {len(sentences)}')"
      ]
    },
    {
      "cell_type": "code",
      "execution_count": null,
      "id": "4ec33b06",
      "metadata": {
        "id": "4ec33b06",
        "outputId": "be9215b2-a6da-40b4-fe2b-424c3398e967"
      },
      "outputs": [
        {
          "name": "stderr",
          "output_type": "stream",
          "text": [
            "C:\\Users\\remoo\\AppData\\Local\\Temp\\ipykernel_5308\\2530158343.py:3: DeprecationWarning: `np.bool` is a deprecated alias for the builtin `bool`. To silence this warning, use `bool` by itself. Doing this will not modify any behavior and is safe. If you specifically wanted the numpy scalar type, use `np.bool_` here.\n",
            "Deprecated in NumPy 1.20; for more details and guidance: https://numpy.org/devdocs/release/1.20.0-notes.html#deprecations\n",
            "  X = np.zeros((len(sentences), seq_len, len(character)), dtype=np.bool)\n",
            "C:\\Users\\remoo\\AppData\\Local\\Temp\\ipykernel_5308\\2530158343.py:4: DeprecationWarning: `np.bool` is a deprecated alias for the builtin `bool`. To silence this warning, use `bool` by itself. Doing this will not modify any behavior and is safe. If you specifically wanted the numpy scalar type, use `np.bool_` here.\n",
            "Deprecated in NumPy 1.20; for more details and guidance: https://numpy.org/devdocs/release/1.20.0-notes.html#deprecations\n",
            "  y = np.zeros((len(sentences), len(character)), dtype=np.bool)\n"
          ]
        },
        {
          "data": {
            "text/plain": [
              "'e'"
            ]
          },
          "execution_count": 5,
          "metadata": {},
          "output_type": "execute_result"
        }
      ],
      "source": [
        "# generating our features and labels\n",
        "#one hot encoding\n",
        "X = np.zeros((len(sentences), seq_len, len(character)), dtype=np.bool)\n",
        "y = np.zeros((len(sentences), len(character)), dtype=np.bool)\n",
        "for i, sentence in enumerate(sentences):\n",
        "    for t, char in enumerate(sentence):\n",
        "        X[i, t, char_indices[char]] = 1\n",
        "    y[i, char_indices[next_chars[i]]] = 1\n",
        "\n",
        "sentences[124]\n",
        "next_chars[100]"
      ]
    },
    {
      "cell_type": "code",
      "execution_count": null,
      "id": "5e4798dd",
      "metadata": {
        "id": "5e4798dd",
        "outputId": "bbbf4683-b73e-482e-8812-0a8f37039425"
      },
      "outputs": [
        {
          "data": {
            "text/plain": [
              "array([False, False, False, False, False, False, False, False, False,\n",
              "       False, False, False, False, False, False, False, False, False,\n",
              "       False, False, False, False, False, False, False, False, False,\n",
              "       False, False, False, False, False, False, False, False, False,\n",
              "       False, False, False, False, False, False, False, False, False,\n",
              "       False, False, False, False, False, False, False, False, False,\n",
              "       False, False, False, False, False, False, False, False, False,\n",
              "       False, False, False, False, False, False, False, False, False,\n",
              "        True])"
            ]
          },
          "execution_count": 6,
          "metadata": {},
          "output_type": "execute_result"
        }
      ],
      "source": [
        "#one hot encoded data\n",
        "X[0][0]"
      ]
    },
    {
      "cell_type": "code",
      "execution_count": null,
      "id": "da0d2332",
      "metadata": {
        "id": "da0d2332",
        "outputId": "23f15674-cd90-4e56-c2b8-c1da1ffd7289"
      },
      "outputs": [
        {
          "data": {
            "text/plain": [
              "array([False, False, False, False, False, False, False, False, False,\n",
              "       False, False, False, False, False, False, False, False, False,\n",
              "       False, False, False, False, False, False, False, False, False,\n",
              "       False, False, False, False, False, False, False, False, False,\n",
              "       False, False, False, False, False, False, False, False, False,\n",
              "       False, False, False, False, False, False,  True, False, False,\n",
              "       False, False, False, False, False, False, False, False, False,\n",
              "       False, False, False, False, False, False, False, False, False,\n",
              "       False])"
            ]
          },
          "execution_count": 7,
          "metadata": {},
          "output_type": "execute_result"
        }
      ],
      "source": [
        "#one hot encoded data\n",
        "y[0]"
      ]
    },
    {
      "cell_type": "code",
      "execution_count": null,
      "id": "2f6eff64",
      "metadata": {
        "id": "2f6eff64",
        "outputId": "07a56b11-e10f-48b2-deb6-f81a59d66a36"
      },
      "outputs": [
        {
          "data": {
            "text/plain": [
              "(193950, 40, 73)"
            ]
          },
          "execution_count": 8,
          "metadata": {},
          "output_type": "execute_result"
        }
      ],
      "source": [
        "X.shape"
      ]
    },
    {
      "cell_type": "code",
      "execution_count": null,
      "id": "622acc69",
      "metadata": {
        "id": "622acc69",
        "outputId": "50c679de-0ed9-4fba-c76f-eaecb07d62a3"
      },
      "outputs": [
        {
          "data": {
            "text/plain": [
              "(193950, 73)"
            ]
          },
          "execution_count": 9,
          "metadata": {},
          "output_type": "execute_result"
        }
      ],
      "source": [
        "y.shape"
      ]
    },
    {
      "cell_type": "code",
      "execution_count": null,
      "id": "05f9ad70",
      "metadata": {
        "id": "05f9ad70"
      },
      "outputs": [],
      "source": [
        "# Creating the model\n",
        "model = Sequential()\n",
        "model.add(LSTM(128, input_shape=(seq_len, len(character))))\n",
        "model.add(Dense(len(character)))\n",
        "model.add(Activation('softmax'))"
      ]
    },
    {
      "cell_type": "code",
      "execution_count": null,
      "id": "ad7d8e22",
      "metadata": {
        "id": "ad7d8e22",
        "outputId": "b74a2abc-5213-4dd8-f382-b19e16e19289"
      },
      "outputs": [
        {
          "name": "stdout",
          "output_type": "stream",
          "text": [
            "Model: \"sequential\"\n",
            "_________________________________________________________________\n",
            " Layer (type)                Output Shape              Param #   \n",
            "=================================================================\n",
            " lstm (LSTM)                 (None, 128)               103424    \n",
            "                                                                 \n",
            " dense (Dense)               (None, 73)                9417      \n",
            "                                                                 \n",
            " activation (Activation)     (None, 73)                0         \n",
            "                                                                 \n",
            "=================================================================\n",
            "Total params: 112,841\n",
            "Trainable params: 112,841\n",
            "Non-trainable params: 0\n",
            "_________________________________________________________________\n"
          ]
        }
      ],
      "source": [
        "model.summary()"
      ]
    },
    {
      "cell_type": "code",
      "execution_count": null,
      "id": "afa9f707",
      "metadata": {
        "id": "afa9f707",
        "outputId": "57ace37b-68fb-4d4e-a875-46692d6b5d7d"
      },
      "outputs": [
        {
          "name": "stdout",
          "output_type": "stream",
          "text": [
            "Epoch 1/10\n",
            "1501/1501 [==============================] - 168s 110ms/step - loss: 2.0460 - accuracy: 0.4002 - val_loss: 2.2723 - val_accuracy: 0.3675\n",
            "Epoch 2/10\n",
            "1501/1501 [==============================] - 274s 182ms/step - loss: 1.6659 - accuracy: 0.5018 - val_loss: 2.0693 - val_accuracy: 0.4258\n",
            "Epoch 3/10\n",
            "1501/1501 [==============================] - 457s 304ms/step - loss: 1.5472 - accuracy: 0.5336 - val_loss: 1.9661 - val_accuracy: 0.4418\n",
            "Epoch 4/10\n",
            "1501/1501 [==============================] - 353s 235ms/step - loss: 1.4832 - accuracy: 0.5521 - val_loss: 1.9395 - val_accuracy: 0.4567\n",
            "Epoch 5/10\n",
            "1501/1501 [==============================] - 301s 201ms/step - loss: 1.4430 - accuracy: 0.5612 - val_loss: 1.9242 - val_accuracy: 0.4634\n",
            "Epoch 6/10\n",
            "1501/1501 [==============================] - 262s 175ms/step - loss: 1.4130 - accuracy: 0.5696 - val_loss: 1.9407 - val_accuracy: 0.4624\n",
            "Epoch 7/10\n",
            "1501/1501 [==============================] - 252s 168ms/step - loss: 1.3920 - accuracy: 0.5760 - val_loss: 1.8833 - val_accuracy: 0.4773\n",
            "Epoch 8/10\n",
            "1501/1501 [==============================] - 221s 147ms/step - loss: 1.3745 - accuracy: 0.5803 - val_loss: 1.8808 - val_accuracy: 0.4758\n",
            "Epoch 9/10\n",
            "1501/1501 [==============================] - 313s 209ms/step - loss: 1.3600 - accuracy: 0.5841 - val_loss: 1.8864 - val_accuracy: 0.4706\n",
            "Epoch 10/10\n",
            "1501/1501 [==============================] - 290s 193ms/step - loss: 1.3490 - accuracy: 0.5857 - val_loss: 1.8945 - val_accuracy: 0.4938\n"
          ]
        }
      ],
      "source": [
        "# Training our model\n",
        "optimizer = RMSprop(learning_rate=0.01)\n",
        "model.compile(loss='categorical_crossentropy', optimizer=optimizer, metrics=['accuracy'])\n",
        "history = model.fit(X, y,\n",
        "                    validation_split=0.01,\n",
        "                    batch_size=128,\n",
        "                    epochs=10,\n",
        "                    shuffle=True).history"
      ]
    },
    {
      "cell_type": "code",
      "execution_count": null,
      "id": "c2e97393",
      "metadata": {
        "id": "c2e97393"
      },
      "outputs": [],
      "source": [
        "#saving our model\n",
        "model.save('NW_keras_model.h5')\n",
        "pickle.dump(history, open(\"history.p\", \"wb\"))"
      ]
    },
    {
      "cell_type": "code",
      "execution_count": null,
      "id": "8ee8d934",
      "metadata": {
        "id": "8ee8d934"
      },
      "outputs": [],
      "source": [
        "#loading our model\n",
        "model = load_model('NW_keras_model.h5')\n",
        "history = pickle.load(open(\"history.p\", \"rb\"))"
      ]
    },
    {
      "cell_type": "code",
      "execution_count": null,
      "id": "3282af46",
      "metadata": {
        "id": "3282af46",
        "outputId": "749d66cc-0688-4be0-8cd6-54050d5d45f4"
      },
      "outputs": [
        {
          "name": "stdout",
          "output_type": "stream",
          "text": [
            "6061/6061 [==============================] - 186s 30ms/step - loss: 1.3030 - accuracy: 0.5985\n",
            "Test Loss 1.3030108213424683\n",
            "Test Accuracy 0.5985254049301147\n"
          ]
        }
      ],
      "source": [
        "#Model Evaluation\n",
        "loss_and_acc=model.evaluate(X,y)\n",
        "print(\"Test Loss\", loss_and_acc[0])\n",
        "print(\"Test Accuracy\", loss_and_acc[1])"
      ]
    },
    {
      "cell_type": "code",
      "execution_count": null,
      "id": "bb723a6f",
      "metadata": {
        "id": "bb723a6f",
        "outputId": "a3e85c56-119d-441b-969f-a6ec578e4390"
      },
      "outputs": [
        {
          "data": {
            "image/png": "[encoded data removed]",
            "text/plain": [
              "<Figure size 2000x600 with 2 Axes>"
            ]
          },
          "metadata": {},
          "output_type": "display_data"
        }
      ],
      "source": [
        "acc = history['accuracy']\n",
        "val_acc = history['val_accuracy']\n",
        "loss = history['loss']\n",
        "val_loss = history['val_loss']\n",
        "epochs = range(len(acc))\n",
        "\n",
        "\n",
        "fig, ax = plt.subplots(nrows=1, ncols=2, figsize=(20, 6))\n",
        "ax[0].plot(epochs, acc, 'y', label='Training accuracy')\n",
        "ax[0].plot(epochs, val_acc, 'g', label='Validation accuracy')\n",
        "ax[0].legend(loc=0)\n",
        "ax[1].plot(epochs, loss, 'y', label='Training loss')\n",
        "ax[1].plot(epochs, val_loss, 'g', label='Validation loss')\n",
        "ax[1].legend(loc=0)\n",
        "\n",
        "plt.suptitle('Training and validation')\n",
        "plt.show()"
      ]
    },
    {
      "cell_type": "code",
      "execution_count": null,
      "id": "f3dc2652",
      "metadata": {
        "id": "f3dc2652",
        "outputId": "004c0cf4-11ff-4644-f739-e4f4cd07f1ac"
      },
      "outputs": [
        {
          "data": {
            "text/plain": [
              "array([[[0., 0., 0., ..., 0., 0., 0.],\n",
              "        [0., 0., 0., ..., 0., 0., 0.],\n",
              "        [0., 0., 0., ..., 0., 0., 0.],\n",
              "        ...,\n",
              "        [0., 0., 0., ..., 0., 0., 0.],\n",
              "        [0., 0., 0., ..., 0., 0., 0.],\n",
              "        [0., 0., 0., ..., 0., 0., 0.]]])"
            ]
          },
          "execution_count": 17,
          "metadata": {},
          "output_type": "execute_result"
        }
      ],
      "source": [
        "def prepare_input(text):\n",
        "    x = np.zeros((1, seq_len, len(character)))\n",
        "    for t, char in enumerate(text):\n",
        "        x[0, t, char_indices[char]] = 1.\n",
        "\n",
        "    return x\n",
        "\n",
        "prepare_input(\"This is an example of input of our model\".lower())"
      ]
    },
    {
      "cell_type": "code",
      "execution_count": null,
      "id": "1fd34476",
      "metadata": {
        "id": "1fd34476"
      },
      "outputs": [],
      "source": [
        "#functions to get next probable characters\n",
        "def sample(preds, top_n=3):\n",
        "    preds = np.asarray(preds).astype('float64')\n",
        "    preds = np.log(preds)\n",
        "    exp_preds = np.exp(preds)\n",
        "    preds = exp_preds / np.sum(exp_preds)\n",
        "\n",
        "    return heapq.nlargest(top_n, range(len(preds)), preds.take)"
      ]
    },
    {
      "cell_type": "code",
      "execution_count": null,
      "id": "f405c145",
      "metadata": {
        "id": "f405c145"
      },
      "outputs": [],
      "source": [
        "def predict_completion(text):\n",
        "    original_text = text\n",
        "    generated = text\n",
        "    completion = ''\n",
        "    while True:\n",
        "        x = prepare_input(text)\n",
        "        preds = model.predict(x, verbose=0)[0]\n",
        "        next_index = sample(preds, top_n=1)[0]\n",
        "        next_char = indices_char[next_index]\n",
        "        text = text[1:] + next_char\n",
        "        completion += next_char\n",
        "\n",
        "        if len(original_text + completion) + 2 > len(original_text) and next_char == ' ':\n",
        "            return completion"
      ]
    },
    {
      "cell_type": "code",
      "execution_count": null,
      "id": "9ee1c36b",
      "metadata": {
        "id": "9ee1c36b"
      },
      "outputs": [],
      "source": [
        "def predict_completions(text, n=3):\n",
        "    x = prepare_input(text)\n",
        "    preds = model.predict(x, verbose=0)[0]\n",
        "    next_indices = sample(preds, n)\n",
        "    return [indices_char[idx] + predict_completion(text[1:] + indices_char[idx]) for idx in next_indices]\n"
      ]
    },
    {
      "cell_type": "code",
      "execution_count": null,
      "id": "da391b48",
      "metadata": {
        "id": "da391b48"
      },
      "outputs": [],
      "source": [
        "#Prediction\n",
        "quotes = [\n",
        "    \"Deep learning is subset of machine learning,which is essentially a neural network with three or more layers.\",\n",
        "    \"Machine learning  is the study of computer algorithms that improve automatically through experience and by the use of data.\",\n",
        "    \"It is not a lack of love, but a lack of friendship that makes unhappy marriages.\",\n",
        "    \"Recurrent neural network (RNN) is a type of artificial neural network which uses sequential data or time series data.\",\n",
        "    \"Thanks for spending your precious time to view my work.\"\n",
        "\n",
        "]"
      ]
    },
    {
      "cell_type": "code",
      "execution_count": null,
      "id": "8174e450",
      "metadata": {
        "id": "8174e450",
        "outputId": "a28495bd-e7fb-486d-8d30-d0c98eceead5"
      },
      "outputs": [
        {
          "name": "stdout",
          "output_type": "stream",
          "text": [
            "deep learning is subset of machine learn\n"
          ]
        },
        {
          "name": "stdout",
          "output_type": "stream",
          "text": [
            "[' a ', 'ed ', ', ', '\\nand ', '.”\\n\\n“i ']\n",
            "\n",
            "machine learning  is the study of comput\n",
            "['e ', 'ion. ', ' a ', ', ', 'ly ']\n",
            "\n",
            "it is not a lack of love, but a lack of \n",
            "['the ', 'my ', 'a ', 'some ', 'his ']\n",
            "\n",
            "recurrent neural network (rnn) is a type\n",
            "['writers ', ' to ', 'riet ', 'ars ', 'ctoring ']\n",
            "\n",
            "thanks for spending your precious time t\n",
            "['o ', 'hat ', 'ete ', 'aking ', 'ime. ']\n",
            "\n"
          ]
        }
      ],
      "source": [
        "for q in quotes:\n",
        "    seq = q[:40].lower()\n",
        "    print(seq)\n",
        "    print(predict_completions(seq, 5))\n",
        "    print()"
      ]
    },
    {
      "cell_type": "markdown",
      "id": "6c0cf2c6",
      "metadata": {
        "id": "6c0cf2c6"
      },
      "source": [
        "## THANK YOU!!"
      ]
    }
  ],
  "metadata": {
    "kernelspec": {
      "display_name": "Python 3 (ipykernel)",
      "language": "python",
      "name": "python3"
    },
    "language_info": {
      "codemirror_mode": {
        "name": "ipython",
        "version": 3
      },
      "file_extension": ".py",
      "mimetype": "text/x-python",
      "name": "python",
      "nbconvert_exporter": "python",
      "pygments_lexer": "ipython3",
      "version": "3.10.9"
    },
    "colab": {
      "provenance": []
    }
  },
  "nbformat": 4,
  "nbformat_minor": 5
}